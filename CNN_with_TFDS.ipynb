{
  "nbformat": 4,
  "nbformat_minor": 0,
  "metadata": {
    "colab": {
      "name": "CNN_with_TFDS.ipynb",
      "provenance": [],
      "collapsed_sections": []
    },
    "kernelspec": {
      "name": "python3",
      "display_name": "Python 3"
    },
    "language_info": {
      "name": "python"
    },
    "accelerator": "GPU"
  },
  "cells": [
    {
      "cell_type": "code",
      "metadata": {
        "id": "5q8UBU8uyf8R"
      },
      "source": [
        "import numpy as np\n",
        "import pandas as pd\n",
        "import tensorflow as tf\n",
        "import tensorflow_datasets as tfds"
      ],
      "execution_count": 1,
      "outputs": []
    },
    {
      "cell_type": "code",
      "metadata": {
        "id": "2hgzEZ4zyf58"
      },
      "source": [
        "df = tfds.load('rock_paper_scissors', as_supervised=True)"
      ],
      "execution_count": 2,
      "outputs": []
    },
    {
      "cell_type": "code",
      "metadata": {
        "colab": {
          "base_uri": "https://localhost:8080/"
        },
        "id": "J87OoEeTyf3c",
        "outputId": "3d8531ce-affc-4d12-c98f-1c81199cb1b5"
      },
      "source": [
        "df"
      ],
      "execution_count": 3,
      "outputs": [
        {
          "output_type": "execute_result",
          "data": {
            "text/plain": [
              "{'test': <PrefetchDataset shapes: ((300, 300, 3), ()), types: (tf.uint8, tf.int64)>,\n",
              " 'train': <PrefetchDataset shapes: ((300, 300, 3), ()), types: (tf.uint8, tf.int64)>}"
            ]
          },
          "metadata": {},
          "execution_count": 3
        }
      ]
    },
    {
      "cell_type": "code",
      "metadata": {
        "id": "8pYs_gR4yf09"
      },
      "source": [
        "train_df = df['train']"
      ],
      "execution_count": 4,
      "outputs": []
    },
    {
      "cell_type": "code",
      "metadata": {
        "id": "yWGGdq7nyfyG"
      },
      "source": [
        "train_df = train_df.batch(16)"
      ],
      "execution_count": 5,
      "outputs": []
    },
    {
      "cell_type": "code",
      "metadata": {
        "colab": {
          "base_uri": "https://localhost:8080/"
        },
        "id": "XjjJ2de7CJK9",
        "outputId": "f903aa68-d92b-433e-8efe-ffc93acfc898"
      },
      "source": [
        "test_df = df['test']\n",
        "test_df"
      ],
      "execution_count": 6,
      "outputs": [
        {
          "output_type": "execute_result",
          "data": {
            "text/plain": [
              "<PrefetchDataset shapes: ((300, 300, 3), ()), types: (tf.uint8, tf.int64)>"
            ]
          },
          "metadata": {},
          "execution_count": 6
        }
      ]
    },
    {
      "cell_type": "code",
      "metadata": {
        "id": "BYmGzyTh_w69"
      },
      "source": [
        "#limit = 49"
      ],
      "execution_count": 7,
      "outputs": []
    },
    {
      "cell_type": "code",
      "metadata": {
        "id": "LGebd24IBGuU"
      },
      "source": [
        ""
      ],
      "execution_count": 7,
      "outputs": []
    },
    {
      "cell_type": "code",
      "metadata": {
        "id": "eKou306hCibS"
      },
      "source": [
        "#input layer\n",
        "model = tf.keras.Sequential([tf.keras.layers.InputLayer(input_shape=(300,300,3)),\n",
        "                             \n",
        "                            tf.keras.layers.Conv2D(filters = 4, kernel_size = 5,activation = 'relu'),\n",
        "                            tf.keras.layers.MaxPool2D(pool_size = 4, strides=1),\n",
        "                             \n",
        "                            tf.keras.layers.Conv2D(filters = 8, kernel_size = 4,activation = 'relu'),\n",
        "                            tf.keras.layers.MaxPool2D(pool_size = 5, strides=2),\n",
        "                             \n",
        "                            tf.keras.layers.Conv2D(filters = 16, kernel_size = 3,activation = 'relu'),\n",
        "                            tf.keras.layers.MaxPool2D(pool_size = 4, strides=2),\n",
        "                             \n",
        "                            tf.keras.layers.Conv2D(filters = 32, kernel_size = 4,activation = 'relu'),\n",
        "                            tf.keras.layers.MaxPool2D(pool_size = 3, strides=2),\n",
        "                             \n",
        "                            tf.keras.layers.Conv2D(filters = 64, kernel_size = 3,activation = 'relu'),\n",
        "                            tf.keras.layers.MaxPool2D(pool_size = 5, strides=2),\n",
        "                             \n",
        "                            tf.keras.layers.Conv2D(filters = 64, kernel_size = 3,activation = 'relu'),\n",
        "                            tf.keras.layers.MaxPool2D(pool_size = 4, strides=2),\n",
        "                            #DROPOUT layer(range 0.5 and 0.8)\n",
        "                            tf.keras.layers.Dropout(0.8),\n",
        "                            #Flattern Layer\n",
        "                            tf.keras.layers.Flatten(),\n",
        "                            #Dense Layer\n",
        "                            #tf.keras.layers.Dense(15000,activation='relu'),\n",
        "                            #tf.keras.layers.Dense(12000,activation='relu'),\n",
        "                            #tf.keras.layers.Dense(7000,activation='relu'),\n",
        "                            tf.keras.layers.Dense(512,activation='relu'),\n",
        "                             tf.keras.layers.Dense(180,activation='relu'),\n",
        "                             tf.keras.layers.Dense(60,activation='relu'),\n",
        "                             tf.keras.layers.Dense(32,activation='relu'),\n",
        "                            tf.keras.layers.Dense(3,activation='softmax')])\n",
        "\n",
        "#activation is for classification....no need in regression!"
      ],
      "execution_count": 8,
      "outputs": []
    },
    {
      "cell_type": "code",
      "metadata": {
        "id": "zEvaqqUmOL1J"
      },
      "source": [
        "model.compile(\n",
        "    loss = 'sparse_categorical_crossentropy',\n",
        "    optimizer='adam',\n",
        "    metrics=['accuracy']\n",
        ")"
      ],
      "execution_count": 9,
      "outputs": []
    },
    {
      "cell_type": "code",
      "metadata": {
        "colab": {
          "base_uri": "https://localhost:8080/"
        },
        "id": "_KZFJ-aJOLsC",
        "outputId": "d6addadf-f3a0-4b24-c0b8-d016a86b3e16"
      },
      "source": [
        "model.summary()"
      ],
      "execution_count": 10,
      "outputs": [
        {
          "output_type": "stream",
          "name": "stdout",
          "text": [
            "Model: \"sequential\"\n",
            "_________________________________________________________________\n",
            "Layer (type)                 Output Shape              Param #   \n",
            "=================================================================\n",
            "conv2d (Conv2D)              (None, 296, 296, 4)       304       \n",
            "_________________________________________________________________\n",
            "max_pooling2d (MaxPooling2D) (None, 293, 293, 4)       0         \n",
            "_________________________________________________________________\n",
            "conv2d_1 (Conv2D)            (None, 290, 290, 8)       520       \n",
            "_________________________________________________________________\n",
            "max_pooling2d_1 (MaxPooling2 (None, 143, 143, 8)       0         \n",
            "_________________________________________________________________\n",
            "conv2d_2 (Conv2D)            (None, 141, 141, 16)      1168      \n",
            "_________________________________________________________________\n",
            "max_pooling2d_2 (MaxPooling2 (None, 69, 69, 16)        0         \n",
            "_________________________________________________________________\n",
            "conv2d_3 (Conv2D)            (None, 66, 66, 32)        8224      \n",
            "_________________________________________________________________\n",
            "max_pooling2d_3 (MaxPooling2 (None, 32, 32, 32)        0         \n",
            "_________________________________________________________________\n",
            "conv2d_4 (Conv2D)            (None, 30, 30, 64)        18496     \n",
            "_________________________________________________________________\n",
            "max_pooling2d_4 (MaxPooling2 (None, 13, 13, 64)        0         \n",
            "_________________________________________________________________\n",
            "conv2d_5 (Conv2D)            (None, 11, 11, 64)        36928     \n",
            "_________________________________________________________________\n",
            "max_pooling2d_5 (MaxPooling2 (None, 4, 4, 64)          0         \n",
            "_________________________________________________________________\n",
            "dropout (Dropout)            (None, 4, 4, 64)          0         \n",
            "_________________________________________________________________\n",
            "flatten (Flatten)            (None, 1024)              0         \n",
            "_________________________________________________________________\n",
            "dense (Dense)                (None, 512)               524800    \n",
            "_________________________________________________________________\n",
            "dense_1 (Dense)              (None, 180)               92340     \n",
            "_________________________________________________________________\n",
            "dense_2 (Dense)              (None, 60)                10860     \n",
            "_________________________________________________________________\n",
            "dense_3 (Dense)              (None, 32)                1952      \n",
            "_________________________________________________________________\n",
            "dense_4 (Dense)              (None, 3)                 99        \n",
            "=================================================================\n",
            "Total params: 695,691\n",
            "Trainable params: 695,691\n",
            "Non-trainable params: 0\n",
            "_________________________________________________________________\n"
          ]
        }
      ]
    },
    {
      "cell_type": "code",
      "metadata": {
        "id": "qutJeIeL153D",
        "colab": {
          "base_uri": "https://localhost:8080/"
        },
        "outputId": "14dfec99-936e-454f-d466-c6e6c761ad24"
      },
      "source": [
        "model.fit(train_df, epochs = 10, verbose = 1)"
      ],
      "execution_count": 11,
      "outputs": [
        {
          "output_type": "stream",
          "name": "stdout",
          "text": [
            "Epoch 1/10\n",
            "158/158 [==============================] - 13s 69ms/step - loss: 1.0028 - accuracy: 0.5377\n",
            "Epoch 2/10\n",
            "158/158 [==============================] - 10s 66ms/step - loss: 0.3133 - accuracy: 0.8929\n",
            "Epoch 3/10\n",
            "158/158 [==============================] - 10s 66ms/step - loss: 0.1059 - accuracy: 0.9675\n",
            "Epoch 4/10\n",
            "158/158 [==============================] - 10s 66ms/step - loss: 0.1041 - accuracy: 0.9667\n",
            "Epoch 5/10\n",
            "158/158 [==============================] - 10s 66ms/step - loss: 0.0804 - accuracy: 0.9817\n",
            "Epoch 6/10\n",
            "158/158 [==============================] - 11s 67ms/step - loss: 0.1206 - accuracy: 0.9591\n",
            "Epoch 7/10\n",
            "158/158 [==============================] - 11s 66ms/step - loss: 0.0742 - accuracy: 0.9813\n",
            "Epoch 8/10\n",
            "158/158 [==============================] - 10s 66ms/step - loss: 0.0166 - accuracy: 0.9929\n",
            "Epoch 9/10\n",
            "158/158 [==============================] - 10s 66ms/step - loss: 0.0331 - accuracy: 0.9897\n",
            "Epoch 10/10\n",
            "158/158 [==============================] - 11s 66ms/step - loss: 0.0241 - accuracy: 0.9940\n"
          ]
        },
        {
          "output_type": "execute_result",
          "data": {
            "text/plain": [
              "<keras.callbacks.History at 0x7fcfc03355d0>"
            ]
          },
          "metadata": {},
          "execution_count": 11
        }
      ]
    },
    {
      "cell_type": "code",
      "metadata": {
        "colab": {
          "base_uri": "https://localhost:8080/"
        },
        "id": "DWZGVCNk4RS3",
        "outputId": "ee211272-c009-4c33-a3f0-9fe4d52f5522"
      },
      "source": [
        "train_df.take(1)"
      ],
      "execution_count": 12,
      "outputs": [
        {
          "output_type": "execute_result",
          "data": {
            "text/plain": [
              "<TakeDataset shapes: ((None, 300, 300, 3), (None,)), types: (tf.uint8, tf.int64)>"
            ]
          },
          "metadata": {},
          "execution_count": 12
        }
      ]
    },
    {
      "cell_type": "code",
      "metadata": {
        "id": "1EEDNDpF15os"
      },
      "source": [
        "#from matplotlib import pyplot as plt"
      ],
      "execution_count": 13,
      "outputs": []
    },
    {
      "cell_type": "code",
      "metadata": {
        "id": "F44CKEv615mF"
      },
      "source": [
        "#plt.imshow(x)\n",
        "#plt.show()"
      ],
      "execution_count": 14,
      "outputs": []
    },
    {
      "cell_type": "code",
      "metadata": {
        "id": "p6KO5wxITQTR"
      },
      "source": [
        "test_df = test_df.batch(16)"
      ],
      "execution_count": 15,
      "outputs": []
    },
    {
      "cell_type": "code",
      "metadata": {
        "id": "fnD-OOhu15jk",
        "colab": {
          "base_uri": "https://localhost:8080/"
        },
        "outputId": "5a6e8a44-8df3-4530-ce44-af8f0c1ebdfc"
      },
      "source": [
        "model.evaluate(test_df)"
      ],
      "execution_count": 16,
      "outputs": [
        {
          "output_type": "stream",
          "name": "stdout",
          "text": [
            "24/24 [==============================] - 1s 45ms/step - loss: 0.0878 - accuracy: 0.9758\n"
          ]
        },
        {
          "output_type": "execute_result",
          "data": {
            "text/plain": [
              "[0.0878061056137085, 0.975806474685669]"
            ]
          },
          "metadata": {},
          "execution_count": 16
        }
      ]
    },
    {
      "cell_type": "code",
      "metadata": {
        "id": "qzuubzMtTJBd"
      },
      "source": [
        ""
      ],
      "execution_count": 16,
      "outputs": []
    }
  ]
}